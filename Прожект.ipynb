{
 "cells": [
  {
   "cell_type": "markdown",
   "id": "211ed950",
   "metadata": {},
   "source": [
    "# Парсер"
   ]
  },
  {
   "cell_type": "code",
   "execution_count": 1,
   "id": "5bdeb1a4",
   "metadata": {},
   "outputs": [
    {
     "name": "stdout",
     "output_type": "stream",
     "text": [
      "Requirement already satisfied: selenium in ./opt/anaconda3/lib/python3.9/site-packages (4.9.1)\n",
      "Requirement already satisfied: trio-websocket~=0.9 in ./opt/anaconda3/lib/python3.9/site-packages (from selenium) (0.10.2)\n",
      "Requirement already satisfied: certifi>=2021.10.8 in ./opt/anaconda3/lib/python3.9/site-packages (from selenium) (2021.10.8)\n",
      "Requirement already satisfied: urllib3[socks]<3,>=1.26 in ./opt/anaconda3/lib/python3.9/site-packages (from selenium) (1.26.7)\n",
      "Requirement already satisfied: trio~=0.17 in ./opt/anaconda3/lib/python3.9/site-packages (from selenium) (0.22.0)\n",
      "Requirement already satisfied: async-generator>=1.9 in ./opt/anaconda3/lib/python3.9/site-packages (from trio~=0.17->selenium) (1.10)\n",
      "Requirement already satisfied: attrs>=19.2.0 in ./opt/anaconda3/lib/python3.9/site-packages (from trio~=0.17->selenium) (21.2.0)\n",
      "Requirement already satisfied: exceptiongroup>=1.0.0rc9 in ./opt/anaconda3/lib/python3.9/site-packages (from trio~=0.17->selenium) (1.1.1)\n",
      "Requirement already satisfied: sortedcontainers in ./opt/anaconda3/lib/python3.9/site-packages (from trio~=0.17->selenium) (2.4.0)\n",
      "Requirement already satisfied: sniffio in ./opt/anaconda3/lib/python3.9/site-packages (from trio~=0.17->selenium) (1.2.0)\n",
      "Requirement already satisfied: outcome in ./opt/anaconda3/lib/python3.9/site-packages (from trio~=0.17->selenium) (1.2.0)\n",
      "Requirement already satisfied: idna in ./opt/anaconda3/lib/python3.9/site-packages (from trio~=0.17->selenium) (3.2)\n",
      "Requirement already satisfied: wsproto>=0.14 in ./opt/anaconda3/lib/python3.9/site-packages (from trio-websocket~=0.9->selenium) (1.2.0)\n",
      "Requirement already satisfied: PySocks!=1.5.7,<2.0,>=1.5.6 in ./opt/anaconda3/lib/python3.9/site-packages (from urllib3[socks]<3,>=1.26->selenium) (1.7.1)\n",
      "Requirement already satisfied: h11<1,>=0.9.0 in ./opt/anaconda3/lib/python3.9/site-packages (from wsproto>=0.14->trio-websocket~=0.9->selenium) (0.14.0)\n"
     ]
    }
   ],
   "source": [
    "!pip install selenium"
   ]
  },
  {
   "cell_type": "code",
   "execution_count": 21,
   "id": "20a42381",
   "metadata": {},
   "outputs": [],
   "source": [
    "from selenium import webdriver\n",
    "from selenium.webdriver.common.by import By\n",
    "from selenium.webdriver.support.ui import WebDriverWait\n",
    "from selenium.webdriver.support import expected_conditions as EC\n",
    "import time\n",
    "from selenium.webdriver.common.by import By\n",
    "from bs4 import BeautifulSoup\n",
    "from time import sleep\n",
    "from tqdm import tqdm\n",
    "from fake_useragent import UserAgent\n",
    "import random\n",
    "import re"
   ]
  },
  {
   "cell_type": "code",
   "execution_count": 23,
   "id": "ccd0a0a3",
   "metadata": {},
   "outputs": [
    {
     "name": "stderr",
     "output_type": "stream",
     "text": [
      "/var/folders/6h/q8cbn2zd7_v3lt__s3thp3x80000gn/T/ipykernel_85525/1012085386.py:10: DeprecationWarning: executable_path has been deprecated, please pass in a Service object\n",
      "  driver = webdriver.Chrome(executable_path='/Users/viktorbolsakov/Desktop/chromedriver', options=options)\n"
     ]
    },
    {
     "name": "stdout",
     "output_type": "stream",
     "text": [
      "Name: Дэдпул (2016)\n",
      "Producer: Тим Миллер\n",
      "Budget: 58.000.000\n",
      "World_Fees: 782.612.155\n",
      "Rating: 7.6\n"
     ]
    }
   ],
   "source": [
    "\n",
    "ua = UserAgent()\n",
    "# options\n",
    "options = webdriver.ChromeOptions()\n",
    "useragent = ua.random\n",
    "#print(useragent)\n",
    "\n",
    "# change useragent\n",
    "options.add_argument(f\"user-agent={useragent}\")\n",
    "\n",
    "driver = webdriver.Chrome(executable_path='/Users/viktorbolsakov/Desktop/chromedriver', options=options)\n",
    "#wait = WebDriverWait(driver, 10)\n",
    "\n",
    "url = 'https://www.kinopoisk.ru/lists/movies/genre--action/year--2010-2019/?page=1'\n",
    "\n",
    "driver.get(url)\n",
    "driver.maximize_window()\n",
    "\n",
    "driver.find_element(By.CLASS_NAME, value='styles_root__wgbNq').click() \n",
    "soup = BeautifulSoup(driver.page_source, 'lxml')\n",
    "\n",
    "Name = soup.find('h1', class_='styles_title__65Zwx').text\n",
    "Producer = soup.find('a', href='/name/698618/').text\n",
    "Budget = '{0:,}'.format(int(re.sub('[^0-9]', '',soup.find('a', href='/film/462360/box/').text))).replace(',', '.')\n",
    "World_Fees = '{0:,}'.format(int(re.sub('[^0-9]', '', soup.find_all('div', {'data-tid': '41068c56'})[1].text.split('=')[1]))).replace(',', '.')\n",
    "Rating = soup.find('span', class_='film-rating-value').text\n",
    "\n",
    "print('Name: ',Name,'\\n','Producer: ',Producer, '\\n', 'Budget: ', Budget, '\\n', 'World_Fees: ', World_Fees, '\\n', 'Rating: ', Rating, sep='')\n",
    "\n",
    "\n",
    "#driver.find_element(By.CLASS_NAME, value='styles_root__wgbNq')"
   ]
  },
  {
   "cell_type": "code",
   "execution_count": 16,
   "id": "0c98f81c",
   "metadata": {},
   "outputs": [
    {
     "data": {
      "text/plain": [
       "<selenium.webdriver.remote.webelement.WebElement (session=\"dfee92696b8412e0e3508e36bea7e1d3\", element=\"4304251BF88C5A2E4182ED0F22C2B6C2_element_78\")>"
      ]
     },
     "execution_count": 16,
     "metadata": {},
     "output_type": "execute_result"
    }
   ],
   "source": [
    "driver.find_element(By.CLASS_NAME, value='styles_root__wgbNq')"
   ]
  },
  {
   "cell_type": "code",
   "execution_count": null,
   "id": "1767ebc3",
   "metadata": {},
   "outputs": [],
   "source": []
  }
 ],
 "metadata": {
  "kernelspec": {
   "display_name": "Python 3 (ipykernel)",
   "language": "python",
   "name": "python3"
  },
  "language_info": {
   "codemirror_mode": {
    "name": "ipython",
    "version": 3
   },
   "file_extension": ".py",
   "mimetype": "text/x-python",
   "name": "python",
   "nbconvert_exporter": "python",
   "pygments_lexer": "ipython3",
   "version": "3.9.7"
  }
 },
 "nbformat": 4,
 "nbformat_minor": 5
}
