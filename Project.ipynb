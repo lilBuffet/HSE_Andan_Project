{
 "cells": [
  {
   "cell_type": "markdown",
   "id": "403f05f2",
   "metadata": {},
   "source": [
    "## Пишем парсер"
   ]
  },
  {
   "cell_type": "markdown",
   "id": "59433483",
   "metadata": {},
   "source": [
    "Устанавливаем необходимые библиотеки:"
   ]
  },
  {
   "cell_type": "code",
   "execution_count": 1,
   "id": "97a007c5",
   "metadata": {},
   "outputs": [],
   "source": [
    "import requests\n",
    "from bs4 import BeautifulSoup\n",
    "from time import sleep"
   ]
  },
  {
   "cell_type": "markdown",
   "id": "52904572",
   "metadata": {},
   "source": [
    "Задаем usear-agent, чтобы сайт с меньшей вероятностью отклонил запрос:"
   ]
  },
  {
   "cell_type": "code",
   "execution_count": 2,
   "id": "706ff8a8",
   "metadata": {},
   "outputs": [],
   "source": [
    "headers = {'User-Agent': 'Mozilla/5.0 (Macintosh; Intel Mac OS X 10_15_7) AppleWebKit/605.1.15 (KHTML, like Gecko) Version/16.3 Safari/605.1.15'}\n"
   ]
  },
  {
   "cell_type": "markdown",
   "id": "8d1622ea",
   "metadata": {},
   "source": [
    "Получаем ссылку:"
   ]
  },
  {
   "cell_type": "code",
   "execution_count": 3,
   "id": "d115c0f9",
   "metadata": {},
   "outputs": [],
   "source": [
    "url = \"https://newsblare.com/lifestyle/celebrity-voice/top-best-actors-in-the-world/\""
   ]
  },
  {
   "cell_type": "markdown",
   "id": "3755745b",
   "metadata": {},
   "source": [
    "Проверяем ответ:"
   ]
  },
  {
   "cell_type": "code",
   "execution_count": 4,
   "id": "cb55a957",
   "metadata": {},
   "outputs": [
    {
     "data": {
      "text/plain": [
       "<Response [200]>"
      ]
     },
     "execution_count": 4,
     "metadata": {},
     "output_type": "execute_result"
    }
   ],
   "source": [
    "response = requests.get(url, headers=headers)\n",
    "response"
   ]
  },
  {
   "cell_type": "markdown",
   "id": "cabd42f2",
   "metadata": {},
   "source": [
    "Проверяем возвращенную ссылку:"
   ]
  },
  {
   "cell_type": "code",
   "execution_count": 5,
   "id": "c1be16b7",
   "metadata": {},
   "outputs": [
    {
     "data": {
      "text/plain": [
       "'https://newsblare.com/lifestyle/celebrity-voice/top-best-actors-in-the-world/'"
      ]
     },
     "execution_count": 5,
     "metadata": {},
     "output_type": "execute_result"
    }
   ],
   "source": [
    "response.url  "
   ]
  },
  {
   "cell_type": "markdown",
   "id": "57ed149c",
   "metadata": {},
   "source": [
    "Ссылка совпадает с изначальной - значит все ок."
   ]
  },
  {
   "cell_type": "markdown",
   "id": "6c0a3032",
   "metadata": {},
   "source": [
    "Получаем информацию со страницы:"
   ]
  },
  {
   "cell_type": "code",
   "execution_count": 6,
   "id": "a564b9fc",
   "metadata": {},
   "outputs": [],
   "source": [
    "soup = BeautifulSoup(response.text, 'lxml')"
   ]
  },
  {
   "cell_type": "markdown",
   "id": "394090b4",
   "metadata": {},
   "source": [
    "Получаем имена знаменитых актеров и передаем их в list:"
   ]
  },
  {
   "cell_type": "code",
   "execution_count": 7,
   "id": "2ee8841a",
   "metadata": {},
   "outputs": [],
   "source": [
    "list_actors = []\n",
    "for i in soup.find_all('h2', class_='wp-block-heading'):\n",
    "    list_actors.append(i.text.split('. ')[-1])\n",
    "\n",
    "del list_actors[0] # удаляем элемент [\"\"]"
   ]
  },
  {
   "cell_type": "markdown",
   "id": "8c372e1c",
   "metadata": {},
   "source": [
    "Записываем полученные данные в файл:"
   ]
  },
  {
   "cell_type": "code",
   "execution_count": 8,
   "id": "a0e6d74a",
   "metadata": {},
   "outputs": [],
   "source": [
    "ActorsFile = open('ActorsFile.txt', 'w')\n",
    "\n",
    "for element in list_actors:\n",
    "     ActorsFile.write(element)\n",
    "     ActorsFile.write('\\n')\n",
    "ActorsFile.close()"
   ]
  },
  {
   "cell_type": "markdown",
   "id": "f34bb3b6",
   "metadata": {},
   "source": [
    "### Пишем то же самое для знаменитых актрис:"
   ]
  },
  {
   "cell_type": "code",
   "execution_count": 9,
   "id": "d8642213",
   "metadata": {},
   "outputs": [],
   "source": [
    "url = \"https://www.thegibsonreview.com/blog/50-favorite-actresses-of-all-time\"\n",
    "response = requests.get(url, headers=headers)\n",
    "#response      # на всякий случай\n",
    "#response.url  # на всякий случай\n",
    "soup = BeautifulSoup(response.text, 'lxml')\n",
    "\n",
    "# получаем list с именами\n",
    "list_actresses = []\n",
    "\n",
    "for i in soup.find_all('h4', style='white-space:pre-wrap;'):\n",
    "    list_actresses.append(i.text.split('. ')[-1])\n",
    "#list_actresses  # если нужно посмотреть именно list\n",
    "\n",
    "# записываем в файл\n",
    "ActressesFile = open('ActressesFile.txt', 'w')\n",
    "\n",
    "for element in list_actresses:\n",
    "     ActressesFile.write(element)\n",
    "     ActressesFile.write('\\n')\n",
    "ActressesFile.close()"
   ]
  },
  {
   "cell_type": "markdown",
   "id": "8aa68b1e",
   "metadata": {},
   "source": [
    "### И еще раз то же самое для знаменитых режиссеров"
   ]
  },
  {
   "cell_type": "code",
   "execution_count": 10,
   "id": "a2270b01",
   "metadata": {},
   "outputs": [],
   "source": [
    "url = 'https://www.studiobinder.com/blog/best-movie-directors-of-all-time/'\n",
    "response = requests.get(url, headers=headers)\n",
    "#response     # на всякий случай\n",
    "#esponse.url  # на всякий случай\n",
    "soup = BeautifulSoup(response.text, 'lxml')\n",
    "\n",
    "# получаем list с именами\n",
    "list_producers = []\n",
    "\n",
    "for i in soup.find_all('div', class_='thrv_wrapper thrv_text_element sb-list-title sb-marginbottom15'):\n",
    "    list_producers.append(i.text.split('. ')[-1])    \n",
    "#list_producers  # если нужно посмотреть именно list\n",
    "\n",
    "# записываем в файл\n",
    "ProducersFile = open('ProducersFile.txt', 'w')\n",
    "\n",
    "for element in list_producers:\n",
    "     ProducersFile.write(element)\n",
    "     ProducersFile.write('\\n')\n",
    "ProducersFile.close()"
   ]
  }
 ],
 "metadata": {
  "kernelspec": {
   "display_name": "Python 3 (ipykernel)",
   "language": "python",
   "name": "python3"
  },
  "language_info": {
   "codemirror_mode": {
    "name": "ipython",
    "version": 3
   },
   "file_extension": ".py",
   "mimetype": "text/x-python",
   "name": "python",
   "nbconvert_exporter": "python",
   "pygments_lexer": "ipython3",
   "version": "3.9.7"
  }
 },
 "nbformat": 4,
 "nbformat_minor": 5
}
